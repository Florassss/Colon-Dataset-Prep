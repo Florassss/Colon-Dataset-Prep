{
 "cells": [
  {
   "cell_type": "code",
   "execution_count": 1,
   "metadata": {},
   "outputs": [],
   "source": [
    "import cv2\n",
    "import os, fnmatch\n",
    "from matplotlib import pyplot as plt\n",
    "import numpy as np\n",
    "import shutil"
   ]
  },
  {
   "cell_type": "code",
   "execution_count": 56,
   "metadata": {},
   "outputs": [],
   "source": [
    "### pair up input images and rotated images and put them in a folder ###\n",
    "# input: original image, a\n",
    "# output: a folder contains ori image, \n",
    "\n",
    "\n",
    "def pairup_img(orig_input, annotation_folder, rotate_ori_folder, rotate_pred_folder):\n",
    "    # create the dst folder \n",
    "    # assuming the name is the same for both orig and pred \n",
    "    name = os.path.splitext(orig_input)[0]\n",
    "    dst = name+'/'\n",
    "    os.mkdir(name)\n",
    "\n",
    "    # move the two input to the dst folder \n",
    "    shutil.copy(orig_input, dst)\n",
    "    \n",
    "    res_annot = find_and_sort(name, annotation_folder, dst, \"_pred\")\n",
    "    # get the corresponding picture from other folders \n",
    "    # and copy them to the dst folder \n",
    "    \n",
    "    res_rot_ori = find_and_sort(name, rotate_ori_folder,dst, \"_rotated\")\n",
    "    res_rot_pred = find_and_sort(name, rotate_pred_folder,dst, \"_pred_rotated\")"
   ]
  },
  {
   "cell_type": "code",
   "execution_count": 62,
   "metadata": {},
   "outputs": [],
   "source": [
    "# find all corresponding pattern files in a folder \n",
    "def find_and_sort(pattern, path, dst, ext):\n",
    "    \n",
    "    result = []\n",
    "    pattern = pattern +'*' \n",
    "    for root, dirs, files in os.walk(path):\n",
    "        for name in files:\n",
    "            if fnmatch.fnmatch(name, pattern): \n",
    "                newname = dst+os.path.splitext(name)[0]+ext+\".png\"              \n",
    "                shutil.move(path+'/'+name, newname)\n",
    "                result.append(newname)\n",
    "    return result\n",
    "            "
   ]
  },
  {
   "cell_type": "code",
   "execution_count": 64,
   "metadata": {},
   "outputs": [
    {
     "name": "stdout",
     "output_type": "stream",
     "text": [
      "a\n",
      "here 3\n"
     ]
    }
   ],
   "source": [
    "pairup_img('a.png', 'annotation_folder/', 'rotate_ori_folder/', 'rotate_pred_folder/')"
   ]
  },
  {
   "cell_type": "code",
   "execution_count": null,
   "metadata": {},
   "outputs": [],
   "source": []
  }
 ],
 "metadata": {
  "kernelspec": {
   "display_name": "Python 3",
   "language": "python",
   "name": "python3"
  },
  "language_info": {
   "codemirror_mode": {
    "name": "ipython",
    "version": 3
   },
   "file_extension": ".py",
   "mimetype": "text/x-python",
   "name": "python",
   "nbconvert_exporter": "python",
   "pygments_lexer": "ipython3",
   "version": "3.6.10"
  }
 },
 "nbformat": 4,
 "nbformat_minor": 2
}
